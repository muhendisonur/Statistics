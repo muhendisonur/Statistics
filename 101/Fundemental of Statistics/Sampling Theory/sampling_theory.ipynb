{
 "cells": [
  {
   "cell_type": "code",
   "execution_count": 17,
   "id": "7bb80114-4674-4ab8-b796-e0240e4ae839",
   "metadata": {},
   "outputs": [],
   "source": [
    "import numpy as np"
   ]
  },
  {
   "cell_type": "code",
   "execution_count": null,
   "id": "049ea5d8-05b8-4c67-beeb-d4745caa8469",
   "metadata": {},
   "outputs": [],
   "source": [
    "# sampling theory"
   ]
  },
  {
   "cell_type": "code",
   "execution_count": 8,
   "id": "2bdce4b1-e04f-41e1-a4b5-cad58fc60664",
   "metadata": {},
   "outputs": [],
   "source": [
    "population = np.random.randint(0, 80, 100000)"
   ]
  },
  {
   "cell_type": "code",
   "execution_count": 12,
   "id": "a7c3f150-09d1-4101-8229-5c59a865de05",
   "metadata": {},
   "outputs": [
    {
     "data": {
      "text/plain": [
       "array([72, 61, 33, 70, 19, 28, 71, 65, 70, 32])"
      ]
     },
     "execution_count": 12,
     "metadata": {},
     "output_type": "execute_result"
    }
   ],
   "source": [
    "population[0:10]"
   ]
  },
  {
   "cell_type": "code",
   "execution_count": 15,
   "id": "c6f2e254-72c5-4fc1-979f-f0147bc9a609",
   "metadata": {},
   "outputs": [],
   "source": [
    "np.random.seed(10) "
   ]
  },
  {
   "cell_type": "code",
   "execution_count": 19,
   "id": "e52dc722-8cf1-4cf9-845d-717c98e09e72",
   "metadata": {},
   "outputs": [],
   "source": [
    "sampling = np.random.choice(a = population, size = 100)"
   ]
  },
  {
   "cell_type": "code",
   "execution_count": 27,
   "id": "3edd4079-ce68-4369-8495-fe98192de99f",
   "metadata": {},
   "outputs": [
    {
     "name": "stdout",
     "output_type": "stream",
     "text": [
      "39.44637\n",
      "44.55\n"
     ]
    }
   ],
   "source": [
    "print(population.mean()) # the mean of whole dataset\n",
    "print(sampling.mean())# the mean of sampling"
   ]
  },
  {
   "cell_type": "code",
   "execution_count": 29,
   "id": "0367a570-01dd-4e07-8a32-2ba478184c8b",
   "metadata": {},
   "outputs": [],
   "source": [
    "# sampling distribution"
   ]
  },
  {
   "cell_type": "code",
   "execution_count": 31,
   "id": "1a2f43f1-5901-4881-be15-e498b38a4bc4",
   "metadata": {},
   "outputs": [],
   "source": [
    "mean_of_samplings = []\n",
    "for i in range(0, 10):\n",
    "    mean_of_samplings.append(np.random.choice(a = population, size=100).mean())"
   ]
  },
  {
   "cell_type": "code",
   "execution_count": 43,
   "id": "8ad5eeb2-4c3b-4120-ab40-856bbaad796c",
   "metadata": {},
   "outputs": [
    {
     "name": "stdout",
     "output_type": "stream",
     "text": [
      "Whole population's mean\t: 39.44637\n",
      "The mean of means of 10 samplings\t: 40.517\n"
     ]
    }
   ],
   "source": [
    "# the mean of means of samplings\n",
    "mean_of_means = 0\n",
    "for i in mean_of_samplings:\n",
    "    mean_of_means += i\n",
    "mean_of_means /= len(mean_of_samplings)\n",
    "\n",
    "print(f\"Whole population's mean\\t: {population.mean()}\")\n",
    "print(f\"The mean of means of 10 samplings\\t: {mean_of_means}\")"
   ]
  }
 ],
 "metadata": {
  "kernelspec": {
   "display_name": "Python 3 (ipykernel)",
   "language": "python",
   "name": "python3"
  },
  "language_info": {
   "codemirror_mode": {
    "name": "ipython",
    "version": 3
   },
   "file_extension": ".py",
   "mimetype": "text/x-python",
   "name": "python",
   "nbconvert_exporter": "python",
   "pygments_lexer": "ipython3",
   "version": "3.12.4"
  }
 },
 "nbformat": 4,
 "nbformat_minor": 5
}
