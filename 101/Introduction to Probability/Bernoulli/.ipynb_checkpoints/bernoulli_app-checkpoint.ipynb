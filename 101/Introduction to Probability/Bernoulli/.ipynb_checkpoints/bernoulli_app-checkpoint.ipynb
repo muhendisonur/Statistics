{
 "cells": [
  {
   "cell_type": "code",
   "execution_count": 9,
   "id": "04ca6e09-b0c3-45fe-a812-0be3adf8c081",
   "metadata": {},
   "outputs": [],
   "source": [
    "from scipy.stats import bernoulli"
   ]
  },
  {
   "cell_type": "code",
   "execution_count": 19,
   "id": "cc231406-14ba-43ef-90e7-b6b77b31dd40",
   "metadata": {},
   "outputs": [],
   "source": [
    "x = bernoulli(0.7)"
   ]
  },
  {
   "cell_type": "code",
   "execution_count": 27,
   "id": "08dd016d-2abe-42ab-828e-2a18bb8d865e",
   "metadata": {},
   "outputs": [
    {
     "data": {
      "text/plain": [
       "0.30000000000000004"
      ]
     },
     "execution_count": 27,
     "metadata": {},
     "output_type": "execute_result"
    }
   ],
   "source": [
    "x.pmf(k=0)"
   ]
  },
  {
   "cell_type": "code",
   "execution_count": null,
   "id": "c1c337d4-d671-41d7-ae9d-b145cb3540cb",
   "metadata": {},
   "outputs": [],
   "source": []
  }
 ],
 "metadata": {
  "kernelspec": {
   "display_name": "Python 3 (ipykernel)",
   "language": "python",
   "name": "python3"
  },
  "language_info": {
   "codemirror_mode": {
    "name": "ipython",
    "version": 3
   },
   "file_extension": ".py",
   "mimetype": "text/x-python",
   "name": "python",
   "nbconvert_exporter": "python",
   "pygments_lexer": "ipython3",
   "version": "3.12.4"
  }
 },
 "nbformat": 4,
 "nbformat_minor": 5
}
