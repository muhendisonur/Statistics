{
 "cells": [
  {
   "cell_type": "code",
   "execution_count": 41,
   "id": "1e008fe0-379f-4097-a7e5-b6fc18047aae",
   "metadata": {},
   "outputs": [],
   "source": [
    "# problem: a compangy gives ad. on different platforms and want to optimize it. So we need to create a information about optimizing ad. clicks on a spesific platform.\n",
    "# details: ad. click probability is 0.01, given by company\n",
    "# problem: company wants how many times between 1,5 and 10 clicked on the ad by 100 viewers"
   ]
  },
  {
   "cell_type": "code",
   "execution_count": 39,
   "id": "05ee4bb7-b12b-4cf5-bcb0-9e31e57f4d3a",
   "metadata": {},
   "outputs": [],
   "source": [
    "from scipy.stats import binom"
   ]
  },
  {
   "cell_type": "code",
   "execution_count": 51,
   "id": "4c9c6f4c-de58-4f28-b04a-e8bf91ce98ae",
   "metadata": {},
   "outputs": [
    {
     "name": "stdout",
     "output_type": "stream",
     "text": [
      "probablity of 1 times clicked between 100 viewers: 0.36972963764972666\n",
      "probablity of 5 times clicked between 100 viewers: 0.002897787123761478\n",
      "probablity of 10 times clicked between 100 viewers: 7.006035693977194e-08\n"
     ]
    }
   ],
   "source": [
    "model = binom(100, 0.01) # 100 times with 0.01 probability\n",
    "clicks = [1,5,10]\n",
    "for i in range(0,len(clicks)):\n",
    "    print(f\"probablity of {clicks[i]} times clicked between 100 viewers: {model.pmf(clicks[i])}\")"
   ]
  },
  {
   "cell_type": "code",
   "execution_count": null,
   "id": "3dbd4aa1-e85a-43ef-b2ab-7039bbd5a5c0",
   "metadata": {},
   "outputs": [],
   "source": []
  }
 ],
 "metadata": {
  "kernelspec": {
   "display_name": "Python 3 (ipykernel)",
   "language": "python",
   "name": "python3"
  },
  "language_info": {
   "codemirror_mode": {
    "name": "ipython",
    "version": 3
   },
   "file_extension": ".py",
   "mimetype": "text/x-python",
   "name": "python",
   "nbconvert_exporter": "python",
   "pygments_lexer": "ipython3",
   "version": "3.12.4"
  }
 },
 "nbformat": 4,
 "nbformat_minor": 5
}
